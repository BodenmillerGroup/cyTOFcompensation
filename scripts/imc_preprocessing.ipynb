{
 "cells": [
  {
   "cell_type": "code",
   "execution_count": null,
   "metadata": {
    "collapsed": true
   },
   "outputs": [],
   "source": [
    "from imctools.scripts import ometiff2analysis\n",
    "from imctools.scripts import imc2tiff"
   ]
  },
  {
   "cell_type": "code",
   "execution_count": null,
   "metadata": {
    "collapsed": true
   },
   "outputs": [],
   "source": [
    "import os\n",
    "import re"
   ]
  },
  {
   "cell_type": "markdown",
   "metadata": {},
   "source": [
    "\n",
    "# IMC preprocessing\n",
    "Author: Vito Zanotelli et al.\n",
    "This script uses the imctools python package to a) convert the IMC images to a standardized .ome.tiff format b) prepare stacks for analysis with CellProfiller and segmentation with Ilastik.\n",
    "\n",
    "This needs the imctools library installed: https://github.com/BodenmillerGroup/imctools\n",
    "\n",
    "The full description of the pipeline and how it needs to be setup can be found at: https://github.com/BodenmillerGroup/ImcSegmentationPipeline"
   ]
  },
  {
   "cell_type": "code",
   "execution_count": null,
   "metadata": {
    "collapsed": true
   },
   "outputs": [],
   "source": [
    "# the folders with the txt/mcd files for the analysis\n",
    "folders = [\n",
    "           '../data/Figure_4/IMC_image'           \n",
    "          ]\n",
    "\n",
    "# output for OME tiffs\n",
    "out_tiff_folder = '../data/Figure_4/IMC_image/ome'\n",
    "\n",
    "# filename part that all the imc txt files should have, can be set to '' if none\n",
    "common_file_part = '.txt'\n",
    "\n",
    "pannel_csv = '../data/Figure_4/IMC_image/imc_example_pannel.csv'\n",
    "metal_col = 'Metal Tag'\n",
    "ilastik_col = 'ilastik'\n",
    "# Explicitly indicates which metals should be used for the full stack\n",
    "full_col = 'full'\n",
    "# specify the folder to put the analysis in\n",
    "analysis_folder = '../data/Figure_4/IMC_image/analysis'\n",
    "# specify the subfolders\n",
    "cp_folder = '../data/Figure_4/IMC_image/cpoutput'\n",
    "\n",
    "# parameters for resizing the images for ilastik\n",
    "suffix_full = '_full'\n",
    "suffix_ilastik = '_ilastik'\n",
    "\n",
    "failed_images = list()"
   ]
  },
  {
   "cell_type": "markdown",
   "metadata": {},
   "source": [
    "Specify which steps to run"
   ]
  },
  {
   "cell_type": "code",
   "execution_count": null,
   "metadata": {
    "collapsed": true
   },
   "outputs": [],
   "source": [
    "do_convert_txt = True\n",
    "do_stacks = True\n",
    "do_ilastik = True"
   ]
  },
  {
   "cell_type": "markdown",
   "metadata": {},
   "source": [
    "Generate all the folders if necessary"
   ]
  },
  {
   "cell_type": "code",
   "execution_count": null,
   "metadata": {
    "collapsed": true
   },
   "outputs": [],
   "source": [
    "for fol in [out_tiff_folder, analysis_folder, cp_folder]:\n",
    "    if not os.path.exists(fol):\n",
    "        os.makedirs(fol)"
   ]
  },
  {
   "cell_type": "markdown",
   "metadata": {},
   "source": [
    "Convert txt to ome"
   ]
  },
  {
   "cell_type": "code",
   "execution_count": null,
   "metadata": {},
   "outputs": [],
   "source": [
    "if do_convert_txt:\n",
    "    for fol in (folders):\n",
    "        for fn in os.listdir(fol):\n",
    "            if len([f for f in os.listdir(out_tiff_folder) if (fn.rstrip('.txt').rstrip('.mcd') in f)]) == 0:\n",
    "                if common_file_part in fn: # and 'tuningtape' not in fn:\n",
    "                    print(fn)\n",
    "                    txtname = os.path.join(fol, fn)\n",
    "                    try:\n",
    "                        imc2tiff.save_imc_to_tiff(txtname,tifftype='ome',\n",
    "                                                  outpath=out_tiff_folder)\n",
    "\n",
    "                    except:\n",
    "                        failed_images.append(txtname)\n",
    "                        print(txtname)\n"
   ]
  },
  {
   "cell_type": "markdown",
   "metadata": {},
   "source": [
    "Generate the analysis stacks"
   ]
  },
  {
   "cell_type": "code",
   "execution_count": null,
   "metadata": {
    "collapsed": true
   },
   "outputs": [],
   "source": [
    "if do_stacks:\n",
    "    for img in os.listdir(out_tiff_folder):\n",
    "        basename = img.rstrip('.ome.tiff')\n",
    "        ometiff2analysis.ometiff_2_analysis(os.path.join(out_tiff_folder, img), analysis_folder, basename+suffix_full,\n",
    "                                           pannelcsv=pannel_csv, metalcolumn=metal_col,\n",
    "                                            usedcolumn=full_col, bigtiff=False, sort_channels=False)\n",
    "\n"
   ]
  },
  {
   "cell_type": "markdown",
   "metadata": {},
   "source": [
    "Generate the ilastik stacks"
   ]
  },
  {
   "cell_type": "code",
   "execution_count": null,
   "metadata": {
    "collapsed": true
   },
   "outputs": [],
   "source": [
    "if do_ilastik:\n",
    "    for img in os.listdir(out_tiff_folder):\n",
    "        basename = img.rstrip('.ome.tiff')\n",
    "        ometiff2analysis.ometiff_2_analysis(os.path.join(out_tiff_folder, img), analysis_folder,\n",
    "                                            basename + suffix_ilastik, pannelcsv=pannel_csv, metalcolumn=metal_col,\n",
    "                                            usedcolumn=ilastik_col, addsum=True, bigtiff=False,sort_channels=False)"
   ]
  },
  {
   "cell_type": "markdown",
   "metadata": {},
   "source": [
    "The next steps needs a CellProfiller setup according to the description in  https://github.com/BodenmillerGroup/ImcSegmentationPipeline\n",
    "It was tested with CellProfiller V2.x\n",
    "- Run the pipeline './imc_pipelines_cellprofiller_prepare_ilastik.cpproj' in CellProfiller\n",
    "- Run the pixel classification: 'ilastik_pixelclassification.ilp' in ilastik\n",
    "    -> maybe the image path needs to be set to the image 'imc_example_image_a0_ilastik_s2.tiff'\n",
    "- Run the pipeline 'cellprofiller_segmentandexport.cpproj' in CellProfiller"
   ]
  }
 ],
 "metadata": {
  "kernelspec": {
   "display_name": "Python 2 venv",
   "language": "python",
   "name": "python2"
  },
  "language_info": {
   "codemirror_mode": {
    "name": "ipython",
    "version": 2
   },
   "file_extension": ".py",
   "mimetype": "text/x-python",
   "name": "python",
   "nbconvert_exporter": "python",
   "pygments_lexer": "ipython2",
   "version": "2.7.12"
  }
 },
 "nbformat": 4,
 "nbformat_minor": 1
}
